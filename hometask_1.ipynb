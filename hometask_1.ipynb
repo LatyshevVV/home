{
 "cells": [
  {
   "cell_type": "code",
   "execution_count": 8,
   "metadata": {
    "scrolled": false
   },
   "outputs": [
    {
     "name": "stdout",
     "output_type": "stream",
     "text": [
      "Give me your name: Vadim\n",
      "Give me your age: 50\n",
      "Year when you will be 100: 2069\n"
     ]
    }
   ],
   "source": [
    "name = input(\"Give me your name: \")\n",
    "age = int(input(\"Give me your age: \"))\n",
    "year = 2019+100-age\n",
    "print(\"Year when you will be 100:\",year)"
   ]
  },
  {
   "cell_type": "code",
   "execution_count": 13,
   "metadata": {},
   "outputs": [
    {
     "name": "stdout",
     "output_type": "stream",
     "text": [
      "Give me your number: 2\n",
      "It's even!\n"
     ]
    }
   ],
   "source": [
    "number = int(input(\"Give me your number: \"))\n",
    "if number % 2 ==0 :\n",
    "    print(\"It's even!\")\n",
    "else:\n",
    "    print(\"It's odd!\")"
   ]
  },
  {
   "cell_type": "code",
   "execution_count": 15,
   "metadata": {},
   "outputs": [
    {
     "name": "stdout",
     "output_type": "stream",
     "text": [
      "Give me your number: 26\n",
      "1\n",
      "2\n",
      "13\n",
      "26\n"
     ]
    }
   ],
   "source": [
    "number = int(input(\"Give me your number: \"))\n",
    "for i in range(number):\n",
    "    if (number % (i+1) ==0):\n",
    "        print (i+1)"
   ]
  },
  {
   "cell_type": "code",
   "execution_count": 39,
   "metadata": {},
   "outputs": [
    {
     "name": "stdout",
     "output_type": "stream",
     "text": [
      "Give me your string: kjkjldfgfdg\n",
      "This is not a polyndrome\n"
     ]
    }
   ],
   "source": [
    "str = input(\"Give me your string: \")\n",
    "k=len(str)\n",
    "fl=0\n",
    "for i in range(k):\n",
    "    if (str[i]!=str[-i-1]):\n",
    "        print(\"This is not a polyndrome\")\n",
    "        fl=1\n",
    "        break\n",
    "if (fl!=1):\n",
    "    print(\"This is a polyndrome!\")"
   ]
  },
  {
   "cell_type": "code",
   "execution_count": 42,
   "metadata": {},
   "outputs": [
    {
     "name": "stdout",
     "output_type": "stream",
     "text": [
      "[4, 16, 36, 64, 100]\n"
     ]
    }
   ],
   "source": [
    "a = [1, 4, 9, 16, 25, 36, 49, 64, 81, 100]\n",
    "b=[]\n",
    "for num in a:\n",
    "    if num % 2 == 0 :\n",
    "        b.append(num)\n",
    "print(b)"
   ]
  },
  {
   "cell_type": "code",
   "execution_count": 59,
   "metadata": {},
   "outputs": [
    {
     "name": "stdout",
     "output_type": "stream",
     "text": [
      "You want to start new game? (Y|N): Y\n",
      "Player1, your turn: Rock\n",
      "Player2, your turn: rock\n",
      "Draw!\n",
      "You want to start new game? (Y|N): N\n",
      "Game over!\n"
     ]
    }
   ],
   "source": [
    "while True:\n",
    "    p=input(\"You want to start new game? (Y|N): \")\n",
    "    if p!='Y':\n",
    "        print(\"Game over!\")\n",
    "        break\n",
    "    p1=input(\"Player1, your turn: \")\n",
    "    p2=input(\"Player2, your turn: \")\n",
    "    p1=p1.lower()\n",
    "    p2=p2.lower()\n",
    "    fl=0\n",
    "    if p1!=\"scissors\":\n",
    "        if p1!=\"rock\":\n",
    "            if p1!=\"paper\":\n",
    "                print (\"Incorrect input, Player1!\")\n",
    "                fl=1\n",
    "                \n",
    "    if p2!=\"scissors\":\n",
    "        if p2!=\"rock\":\n",
    "            if p2!=\"paper\":\n",
    "                print (\"Incorrect input, Player2!\")\n",
    "                fl=1\n",
    "                \n",
    "    if fl!=1:\n",
    "        if (p1==\"scissors\" and p2==\"paper\") or (p1==\"paper\" and p2==\"rock\") or (p1==\"rock\" and p2==\"scissors\"):\n",
    "            print(\"Player1 wins!\")\n",
    "        elif (p1==p2):\n",
    "            print (\"Draw!\")\n",
    "        else:\n",
    "            print(\"Player2 wins!\")"
   ]
  },
  {
   "cell_type": "code",
   "execution_count": 69,
   "metadata": {},
   "outputs": [
    {
     "name": "stdout",
     "output_type": "stream",
     "text": [
      "You want to start new game? (Y|N): Y\n",
      "1\n",
      "Your number?: 4\n",
      "Too high!\n",
      "You want to start new game? (Y|N): Y\n",
      "7\n",
      "Your number?: 7\n",
      "Exactly!\n",
      "You want to start new game? (Y|N): Y\n",
      "8\n",
      "Your number?: 9\n",
      "Too high!\n",
      "You want to start new game? (Y|N): Y\n",
      "4\n",
      "Your number?: 2\n",
      "Too low!\n",
      "You want to start new game? (Y|N): Y\n",
      "2\n",
      "Your number?: 1\n",
      "Too low!\n",
      "You want to start new game? (Y|N): N\n",
      "Game over!\n"
     ]
    }
   ],
   "source": [
    "import random\n",
    "\n",
    "while True:\n",
    "    p=input(\"You want to start new game? (Y|N): \")\n",
    "    if p!='Y':\n",
    "        print(\"Game over!\")\n",
    "        break\n",
    "    \n",
    "    n=random.randint(1,9)\n",
    "    print(n)\n",
    "    p1=int(input(\"Your number?: \"))\n",
    "    if (n < p1):\n",
    "           print(\"Too high!\")\n",
    "    elif n==p1 :\n",
    "           print(\"Exactly!\")\n",
    "    else:\n",
    "           print(\"Too low!\")"
   ]
  },
  {
   "cell_type": "code",
   "execution_count": null,
   "metadata": {},
   "outputs": [],
   "source": []
  }
 ],
 "metadata": {
  "kernelspec": {
   "display_name": "Python 3",
   "language": "python",
   "name": "python3"
  },
  "language_info": {
   "codemirror_mode": {
    "name": "ipython",
    "version": 3
   },
   "file_extension": ".py",
   "mimetype": "text/x-python",
   "name": "python",
   "nbconvert_exporter": "python",
   "pygments_lexer": "ipython3",
   "version": "3.6.5"
  }
 },
 "nbformat": 4,
 "nbformat_minor": 2
}
