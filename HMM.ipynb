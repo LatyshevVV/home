{
 "cells": [
  {
   "cell_type": "code",
   "execution_count": 1,
   "metadata": {},
   "outputs": [],
   "source": [
    "import numpy as np"
   ]
  },
  {
   "cell_type": "code",
   "execution_count": 2,
   "metadata": {},
   "outputs": [],
   "source": [
    "states = ('Cold', 'Hot')\n",
    "     \n",
    "observations = ('1', '2', '3')\n",
    "\n",
    "start_probability = {'Cold': 0.2, 'Hot': 0.8}\n",
    "\n",
    "transition_probability = {\n",
    "    'Cold': {'Cold': 0.5, 'Hot': 0.5},\n",
    "    'Hot': {'Cold': 0.4, 'Hot': 0.6},\n",
    "}\n",
    "\n",
    "emission_probability = {\n",
    "    'Cold': {'1': 0.5, '2': 0.4, '3': 0.1},\n",
    "    'Hot': {'1': 0.2, '2': 0.4, '3': 0.4},\n",
    "}"
   ]
  },
  {
   "cell_type": "code",
   "execution_count": 3,
   "metadata": {},
   "outputs": [],
   "source": [
    "class HMM:\n",
    "        \"\"\"\n",
    "        Order 1 Hidden Markov Model\n",
    "     \n",
    "        Attributes\n",
    "        ----------\n",
    "        A : numpy.ndarray\n",
    "            State transition probability matrix\n",
    "        B: numpy.ndarray\n",
    "            Output emission probability matrix with shape(N, number of output types)\n",
    "        pi: numpy.ndarray\n",
    "            Initial state probablity vector\n",
    "        \"\"\"\n",
    "     \n",
    "        def __init__(self, A, B, pi):\n",
    "            self.A = A\n",
    "            self.B = B\n",
    "            self.pi = pi\n",
    "            \n",
    "        def forward(self, obs_seq):\n",
    "            N = self.A.shape[0]\n",
    "            T = len(obs_seq)\n",
    "\n",
    "            F = np.zeros((N,T))\n",
    "            F[:,0] = self.pi * self.B[:, obs_seq[0]]\n",
    "\n",
    "            for t in range(1, T):\n",
    "                for n in range(N):\n",
    "                    F[n,t] = np.dot(F[:,t-1], (self.A[:,n])) * self.B[n, obs_seq[t]]\n",
    "\n",
    "            return F"
   ]
  },
  {
   "cell_type": "code",
   "execution_count": 4,
   "metadata": {},
   "outputs": [],
   "source": [
    "def generate_index_map(lables):\n",
    "    index_label = {}\n",
    "    label_index = {}\n",
    "    i = 0\n",
    "    for l in lables:\n",
    "        index_label[i] = l\n",
    "        label_index[l] = i\n",
    "        i += 1\n",
    "    return label_index, index_label\n",
    "\n",
    "\n",
    "states_label_index, states_index_label = generate_index_map(states)\n",
    "observations_label_index, observations_index_label = generate_index_map(observations)\n",
    "\n",
    "\n",
    "def convert_observations_to_index(observations, label_index):\n",
    "    list = []\n",
    "    for o in observations:\n",
    "        list.append(label_index[o])\n",
    "    return list\n",
    "\n",
    "\n",
    "def convert_map_to_vector(map, label_index):\n",
    "    v = np.empty(len(map), dtype=float)\n",
    "    for e in map:\n",
    "        v[label_index[e]] = map[e]\n",
    "    return v\n",
    "\n",
    "\n",
    "def convert_map_to_matrix(map, label_index1, label_index2):\n",
    "    m = np.empty((len(label_index1), len(label_index2)), dtype=float)\n",
    "    for line in map:\n",
    "        for col in map[line]:\n",
    "            m[label_index1[line]][label_index2[col]] = map[line][col]\n",
    "    return m"
   ]
  },
  {
   "cell_type": "code",
   "execution_count": 5,
   "metadata": {},
   "outputs": [
    {
     "name": "stdout",
     "output_type": "stream",
     "text": [
      "[[0.5 0.5]\n",
      " [0.4 0.6]]\n",
      "[[0.5 0.4 0.1]\n",
      " [0.2 0.4 0.4]]\n",
      "[0.2 0.8]\n"
     ]
    }
   ],
   "source": [
    "A = convert_map_to_matrix(transition_probability, states_label_index, states_label_index)\n",
    "print(A)\n",
    "B = convert_map_to_matrix(emission_probability, states_label_index, observations_label_index)\n",
    "print(B)\n",
    "observations_index = convert_observations_to_index(observations, observations_label_index)\n",
    "pi = convert_map_to_vector(start_probability, states_label_index)\n",
    "print(pi)\n",
    "\n",
    "\n",
    "h = HMM(A, B, pi)"
   ]
  },
  {
   "cell_type": "code",
   "execution_count": 6,
   "metadata": {
    "scrolled": true
   },
   "outputs": [
    {
     "data": {
      "text/plain": [
       "[0, 2, 2, 1, 2, 2, 2, 1, 0, 1, 0, 0, 2, 0, 2, 2, 2]"
      ]
     },
     "execution_count": 6,
     "metadata": {},
     "output_type": "execute_result"
    }
   ],
   "source": [
    "obs_seq = ('1','3','3','2','3','3','3','2','1','2','1','1','3','1','3','3','3')\n",
    "obs_seq = convert_observations_to_index(obs_seq, observations_label_index)\n",
    "obs_seq"
   ]
  },
  {
   "cell_type": "code",
   "execution_count": 7,
   "metadata": {},
   "outputs": [
    {
     "data": {
      "text/plain": [
       "array([[1.00000000e-01, 1.14000000e-02, 2.90600000e-03, 3.18856000e-03,\n",
       "        3.39117600e-04, 8.55898640e-05, 2.34645902e-05, 2.58494868e-05,\n",
       "        1.37479259e-05, 3.86259018e-06, 1.84946608e-06, 6.45676547e-07,\n",
       "        4.40811324e-08, 5.10041110e-08, 3.68614195e-09, 8.64964721e-10,\n",
       "        2.36095201e-10],\n",
       "       [1.60000000e-01, 5.84000000e-02, 1.62960000e-02, 4.49224000e-03,\n",
       "        1.71584960e-03, 4.79627424e-04, 1.32228555e-04, 3.64277711e-05,\n",
       "        6.95628121e-06, 4.41909267e-06, 9.16550139e-07, 2.94932625e-07,\n",
       "        1.99919139e-07, 2.83984100e-08, 1.70164406e-08, 4.82117413e-09,\n",
       "        1.33007474e-09]])"
      ]
     },
     "execution_count": 7,
     "metadata": {},
     "output_type": "execute_result"
    }
   ],
   "source": [
    "F = h.forward(obs_seq)\n",
    "F"
   ]
  },
  {
   "cell_type": "code",
   "execution_count": 8,
   "metadata": {},
   "outputs": [
    {
     "name": "stdout",
     "output_type": "stream",
     "text": [
      "0.3595539987636594\n"
     ]
    }
   ],
   "source": [
    "print (F.sum())"
   ]
  },
  {
   "cell_type": "code",
   "execution_count": null,
   "metadata": {},
   "outputs": [],
   "source": []
  }
 ],
 "metadata": {
  "kernelspec": {
   "display_name": "Python 3",
   "language": "python",
   "name": "python3"
  },
  "language_info": {
   "codemirror_mode": {
    "name": "ipython",
    "version": 3
   },
   "file_extension": ".py",
   "mimetype": "text/x-python",
   "name": "python",
   "nbconvert_exporter": "python",
   "pygments_lexer": "ipython3",
   "version": "3.7.0"
  }
 },
 "nbformat": 4,
 "nbformat_minor": 2
}
