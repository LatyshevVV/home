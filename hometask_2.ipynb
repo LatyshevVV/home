{
 "cells": [
  {
   "cell_type": "code",
   "execution_count": null,
   "metadata": {},
   "outputs": [],
   "source": [
    "import numpy as np\n",
    "import matplotlib.pyplot as plt"
   ]
  },
  {
   "cell_type": "code",
   "execution_count": 75,
   "metadata": {},
   "outputs": [
    {
     "name": "stdout",
     "output_type": "stream",
     "text": [
      "0.17236375373211354\n",
      "0.5302572931841554\n",
      "0.5331210957322403\n",
      "0.5224110366144407\n",
      "0.6057136542070176\n",
      "0.5714309814344287\n",
      "0.6061969711467068\n",
      "0.2081796644749606\n",
      "0.6146245547688174\n",
      "0.3642312690289362\n"
     ]
    }
   ],
   "source": [
    "#task 1\n",
    "arr=np.random.random((10, 3))\n",
    "for i in range(10):\n",
    "    print(min(arr[i], key = lambda x: abs(x-0.5)))"
   ]
  },
  {
   "cell_type": "code",
   "execution_count": 101,
   "metadata": {
    "scrolled": true
   },
   "outputs": [
    {
     "name": "stdout",
     "output_type": "stream",
     "text": [
      "27.351435742173397\n",
      "12.195999017723697\n",
      "190.81820381866063\n",
      "36.135369893283475\n",
      "7.129829300440954\n",
      "7.481581508258464\n"
     ]
    }
   ],
   "source": [
    "#task 2\n",
    "arr=np.random.random((6, 6))\n",
    "for i in range(6):\n",
    "    print(np.sum(arr[i])/min(arr[:,i]))"
   ]
  },
  {
   "cell_type": "code",
   "execution_count": 120,
   "metadata": {},
   "outputs": [
    {
     "name": "stdout",
     "output_type": "stream",
     "text": [
      "5\n"
     ]
    }
   ],
   "source": [
    "#task 3\n",
    "x = np.array([6, 2, 0, 3, 0, 0, 5, 7, 0])\n",
    "m=0\n",
    "for i in range(len(x)-1):\n",
    "    if (x[i]==0):\n",
    "        m=max(x[i+1],m)\n",
    "print(m)"
   ]
  },
  {
   "cell_type": "code",
   "execution_count": 125,
   "metadata": {},
   "outputs": [
    {
     "name": "stdout",
     "output_type": "stream",
     "text": [
      "[2. 2. 2. 2. 1. 4. 1. 1. 2. 1.]\n"
     ]
    }
   ],
   "source": [
    "#task 4\n",
    "x = np.ones(10)\n",
    "i = np.array([0, 1, 2, 3, 5, 5, 5, 8])\n",
    "for j in i:\n",
    "    x[j]+=1\n",
    "print(x)"
   ]
  },
  {
   "cell_type": "code",
   "execution_count": 235,
   "metadata": {},
   "outputs": [
    {
     "name": "stdout",
     "output_type": "stream",
     "text": [
      "[[ 0  1  2  3]\n",
      " [ 4  5  6  7]\n",
      " [ 8  9 10 11]\n",
      " [12 13 14 15]]\n",
      "{0: array([0]), 1: array([1, 4]), 2: array([2, 5, 8]), 3: array([ 3,  6,  9, 12]), 4: array([ 7, 10, 13]), 5: array([11, 14]), 6: array([15])}\n"
     ]
    }
   ],
   "source": [
    "#task 5\n",
    "n=3\n",
    "a = np.arange((n+1)**2).reshape(n+1, n+1)\n",
    "d={}\n",
    "print(a)\n",
    "for i in range(2*n+1):\n",
    "    if i<n+1:\n",
    "        d.update({i: a.ravel()[i:i+n*i+1:n]})\n",
    "    else:\n",
    "        j=2*n-i\n",
    "        d.update({i: a.ravel()[-j-1-j*n:-j:n]})\n",
    "    if i == 2*n:\n",
    "        d.update({i: a.ravel()[-1::]})\n",
    "print (d)"
   ]
  },
  {
   "cell_type": "code",
   "execution_count": 528,
   "metadata": {},
   "outputs": [],
   "source": [
    "#task6\n",
    "def get_labels(pts, centroids):\n",
    "    dist1 = np.linalg.norm(pts-centroids[0], axis=1)\n",
    "    dist2 = np.linalg.norm(pts-centroids[1], axis=1)\n",
    "    dist = np.vstack((dist1, dist2))\n",
    "    \n",
    "    return np.argmin(dist, axis=0)\n",
    "\n",
    "def mykmeans(data, k, iter=20, thresh=1e-5):\n",
    "    if int(iter)<1:\n",
    "        raise ValueError('iter must be at least 1.')\n",
    "    centroids = np.random.uniform(-2, 2, 2*k).reshape((k, 2))\n",
    "    i=0\n",
    "    thr=4\n",
    "    \n",
    "    while ((i<iter) and (thr>thresh)):\n",
    "        labels = get_labels(data,centroids)\n",
    "        mask0= labels == 0\n",
    "        mask1= labels == 1\n",
    "        if((len(data[mask0])==0) or (len(data[mask1])==0)):\n",
    "            centroids = np.random.uniform(-2, 2, 2*k).reshape((k, 2))\n",
    "            i=0\n",
    "            thr=4\n",
    "        c0=centroids[0].copy()\n",
    "        c1=centroids[1].copy()\n",
    "        centroids[0] = np.mean(data[mask0], axis=0)\n",
    "        centroids[1] = np.mean(data[mask1], axis=0)\n",
    "        \n",
    "        i+=1\n",
    "        thr=max(np.linalg.norm(c0-centroids[0], axis=0),np.linalg.norm(c1-centroids[1], axis=0))\n",
    "            \n",
    "    return centroids"
   ]
  },
  {
   "cell_type": "code",
   "execution_count": 537,
   "metadata": {},
   "outputs": [
    {
     "data": {
      "image/png": "[encoded data removed]",
      "text/plain": [
       "<Figure size 432x288 with 1 Axes>"
      ]
     },
     "metadata": {},
     "output_type": "display_data"
    }
   ],
   "source": [
    "#2-means clasterisation for old faithful geyser eruptions dataset\n",
    "data = np.loadtxt('faithful.dat', skiprows=26)[:, 1:]\n",
    "data[:,0]-=np.mean(data[:,0])\n",
    "data[:,0]/=np.std(data[:,0])\n",
    "data[:,1]-=np.mean(data[:,1])\n",
    "data[:,1]/=np.std(data[:,1])\n",
    "\n",
    "centroids = mykmeans(data,2)\n",
    "labels = get_labels(data, centroids)\n",
    "\n",
    "plt.scatter(*data.T, c=np.where(labels, \"green\", \"red\"), s=20)\n",
    "plt.scatter(*centroids.T, c=[\"red\", \"green\"], s=95, marker='*')\n",
    "plt.title('Predicted Classes')\n",
    "plt.show()"
   ]
  }
 ],
 "metadata": {
  "kernelspec": {
   "display_name": "Python 3",
   "language": "python",
   "name": "python3"
  },
  "language_info": {
   "codemirror_mode": {
    "name": "ipython",
    "version": 3
   },
   "file_extension": ".py",
   "mimetype": "text/x-python",
   "name": "python",
   "nbconvert_exporter": "python",
   "pygments_lexer": "ipython3",
   "version": "3.6.5"
  }
 },
 "nbformat": 4,
 "nbformat_minor": 2
}
