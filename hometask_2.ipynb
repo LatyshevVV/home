{
 "cells": [
  {
   "cell_type": "code",
   "execution_count": 1,
   "metadata": {},
   "outputs": [
    {
     "name": "stdout",
     "output_type": "stream",
     "text": [
      "[[0.67178507 0.65108702 0.47241168]\n",
      " [0.47352538 0.09597372 0.23199749]\n",
      " [0.8333399  0.26422561 0.29808664]\n",
      " [0.39431148 0.11907854 0.35828697]\n",
      " [0.91608022 0.57601461 0.12587298]\n",
      " [0.74834516 0.46780282 0.86028227]\n",
      " [0.59507428 0.15414264 0.58743685]\n",
      " [0.02387177 0.74259898 0.35077314]\n",
      " [0.40286996 0.97259599 0.40224622]\n",
      " [0.41074658 0.90457024 0.22930907]]\n",
      "[0.52758832 0.52647462 0.70191336 0.60568852 0.57601461 0.53219718\n",
      " 0.58743685 0.64922686 0.59713004 0.58925342]\n"
     ]
    }
   ],
   "source": [
    "#1\n",
    "import numpy as np\n",
    "a=np.random.random((10, 3))\n",
    "print(a)\n",
    "print(np.min(abs(a-0.5)+0.5, axis=1))"
   ]
  },
  {
   "cell_type": "code",
   "execution_count": 3,
   "metadata": {},
   "outputs": [
    {
     "name": "stdout",
     "output_type": "stream",
     "text": [
      "[[0.22176254 0.81979778 0.14401187 0.4027753  0.18710732 0.13368915]\n",
      " [0.33083132 0.07080323 0.1555916  0.54972365 0.78815499 0.35792781]\n",
      " [0.24518068 0.66588011 0.87107089 0.82699977 0.28711521 0.77632988]\n",
      " [0.35258101 0.56771926 0.59662868 0.7084584  0.94145747 0.33053568]\n",
      " [0.66125117 0.18795305 0.73199604 0.27488106 0.91163398 0.36709719]\n",
      " [0.11802316 0.97394416 0.97718575 0.11496625 0.36191321 0.00779446]]\n",
      "[ 16.17601186  31.82104057  25.50190103  30.4209328   16.75408815\n",
      " 327.64648082]\n"
     ]
    }
   ],
   "source": [
    "#2\n",
    "import numpy as np\n",
    "a=np.random.random((6, 6))\n",
    "print(a)\n",
    "#d=[np.min(a[:, b]) for b in range(6)]\n",
    "#c=[np.sum(b) for b in a]\n",
    "c=a.sum(axis=1)\n",
    "d=a.min(axis=0)\n",
    "#print(c)\n",
    "#print(d)\n",
    "#print([c[m]/np.min(a[:, m]) for m in range(6)])\n",
    "print(c/d)"
   ]
  },
  {
   "cell_type": "code",
   "execution_count": 14,
   "metadata": {},
   "outputs": [
    {
     "name": "stdout",
     "output_type": "stream",
     "text": [
      "5\n"
     ]
    }
   ],
   "source": [
    "#3\n",
    "import numpy as np\n",
    "x=np.array([6, 2, 0, 3, 0, 0, 5, 7, 0])\n",
    "k=np.array([x[i] for i in range(1, 9) if x[i-1] == 0]).max()\n",
    "print(k)"
   ]
  },
  {
   "cell_type": "code",
   "execution_count": 18,
   "metadata": {},
   "outputs": [
    {
     "name": "stdout",
     "output_type": "stream",
     "text": [
      "[2. 2. 2. 2. 1. 4. 1. 1. 2. 1.]\n"
     ]
    }
   ],
   "source": [
    "#4\n",
    "import numpy as np\n",
    "x=np.ones(10)\n",
    "i=np.array([0, 1, 2, 3, 5, 5, 5, 8])\n",
    "for b in i: x[b]+=1\n",
    "print(x)"
   ]
  },
  {
   "cell_type": "code",
   "execution_count": 20,
   "metadata": {},
   "outputs": [
    {
     "name": "stdout",
     "output_type": "stream",
     "text": [
      "[array([0]), array([1, 4]), array([2, 5, 8]), array([ 3,  6,  9, 12]), array([ 7, 10, 13]), array([11, 14])]\n"
     ]
    }
   ],
   "source": [
    "#5\n",
    "import numpy as np\n",
    "a = np.arange(16).reshape(4, 4)\n",
    "#b={k: [] for k in range(7)}\n",
    "b=[np.diagonal(a[:, ::-1], k) for k in range(3, -3, -1)]\n",
    "print(b)"
   ]
  },
  {
   "cell_type": "code",
   "execution_count": 1,
   "metadata": {},
   "outputs": [
    {
     "data": {
      "text/plain": [
       "<Figure size 600x400 with 1 Axes>"
      ]
     },
     "metadata": {},
     "output_type": "display_data"
    },
    {
     "data": {
      "text/plain": [
       "<Figure size 640x480 with 1 Axes>"
      ]
     },
     "metadata": {},
     "output_type": "display_data"
    },
    {
     "name": "stdout",
     "output_type": "stream",
     "text": [
      "Number centroids: 2\n",
      "[[ 0.65411722  0.37604688]\n",
      " [-1.08646921 -0.80302807]]\n",
      "[54.60269031 25.00312045]\n"
     ]
    },
    {
     "data": {
      "image/png": "[encoded data removed]",
      "text/plain": [
       "<Figure size 432x288 with 1 Axes>"
      ]
     },
     "metadata": {
      "needs_background": "light"
     },
     "output_type": "display_data"
    }
   ],
   "source": [
    "import numpy as np\n",
    "from __future__ import division\n",
    "import matplotlib.pyplot as plt\n",
    "from sklearn.datasets import load_digits\n",
    "import random\n",
    "data = np.loadtxt('Oldfaithful.txt', skiprows=0)[:, :]\n",
    "import matplotlib.pyplot as plt\n",
    "\n",
    "plt.figure(figsize=(6, 4))\n",
    "plt.scatter(*data.T)\n",
    "plt.xlabel('Eruption time (min)')\n",
    "plt.ylabel('Waiting time ti next eruption (min)')\n",
    "plt.show()\n",
    "n=np.mean(data, axis=0)\n",
    "data=(data-n)/(np.mean((data-n)**2, axis=0))**(1/2)    \n",
    "plt.scatter(*data.T)\n",
    "plt.show()\n",
    "N=int(input(\"Number centroids: \"))\n",
    "centroids=data[np.random.choice(np.arange(len(data)), N, False)]\n",
    "#co=(len(data))/2\n",
    "co=int(data.size/2)\n",
    "print(centroids)\n",
    "def getlabels(pt, centroids, co, N):\n",
    "    a=np.vstack(pt-centroids[i] for i in range(N))\n",
    "    b=np.linalg.norm(a,axis=1)\n",
    "    dist=b.reshape(N,co).transpose()\n",
    "    return np.argmin(dist, axis=1)\n",
    "def kmeans(data,centroids,diagnosis, co, N):\n",
    "    labels=getlabels(data, centroids, co, N)\n",
    "    #newcentoids=centroids\n",
    "    d=1\n",
    "    step=0\n",
    "    while d>diagnosis:\n",
    "        newcentroids=centroids\n",
    "        for i in range(N): centroids[i]=np.sum(data[labels==i],axis=0)/np.sum(labels==i)\n",
    "        labels=getlabels(data, centroids, co, N)    \n",
    "        d=max(np.linalg.norm(centroids[i]-newcentroids[i]) for i in range(N))\n",
    "        #step+=1\n",
    "   # centroids=newcentroids\n",
    "    distortion=np.array([np.sum((np.linalg.norm(data[labels==i]-centroids[i]))**2) for i in range(N)])\n",
    "    return centroids, distortion    \n",
    "centroids, d=kmeans(data,centroids,0.00000001, co, N)\n",
    "print(d)\n",
    "labels = getlabels(data, centroids, co, N)\n",
    "import matplotlib.pyplot as plt\n",
    "%matplotlib inline\n",
    "col=lambda: random.randint(0, 255)\n",
    "labels = getlabels(data, centroids, co, N)\n",
    "#plt.scatter(*data.T, c=np.where(labels, \"col() for i in range(N)\"), s=10)\n",
    "plt.scatter(*data.T, c=np.where(labels, \"black\", \"violet\"), s=10)\n",
    "plt.scatter(*centroids.T, c=[col() for i in range(N)], s=100, marker='*')\n",
    "plt.title('Predicted Classes')\n",
    "plt.show()"
   ]
  },
  {
   "cell_type": "code",
   "execution_count": null,
   "metadata": {},
   "outputs": [],
   "source": []
  }
 ],
 "metadata": {
  "kernelspec": {
   "display_name": "Python 3",
   "language": "python",
   "name": "python3"
  },
  "language_info": {
   "codemirror_mode": {
    "name": "ipython",
    "version": 3
   },
   "file_extension": ".py",
   "mimetype": "text/x-python",
   "name": "python",
   "nbconvert_exporter": "python",
   "pygments_lexer": "ipython3",
   "version": "3.6.5"
  }
 },
 "nbformat": 4,
 "nbformat_minor": 2
}
